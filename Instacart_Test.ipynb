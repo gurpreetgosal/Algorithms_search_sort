{
  "nbformat": 4,
  "nbformat_minor": 0,
  "metadata": {
    "colab": {
      "name": "Instacart Test.ipynb",
      "version": "0.3.2",
      "provenance": [],
      "collapsed_sections": [],
      "include_colab_link": true
    },
    "kernelspec": {
      "name": "python3",
      "display_name": "Python 3"
    },
    "accelerator": "GPU"
  },
  "cells": [
    {
      "cell_type": "markdown",
      "metadata": {
        "id": "view-in-github",
        "colab_type": "text"
      },
      "source": [
        "<a href=\"https://colab.research.google.com/github/gurpreetgosal/Algorithms_search_sort/blob/master/Instacart_Test.ipynb\" target=\"_parent\"><img src=\"https://colab.research.google.com/assets/colab-badge.svg\" alt=\"Open In Colab\"/></a>"
      ]
    },
    {
      "metadata": {
        "id": "tEXArCy2chrR",
        "colab_type": "code",
        "colab": {}
      },
      "cell_type": "code",
      "source": [
        "import numpy as np\n",
        "import pandas as pd\n",
        "import sklearn\n",
        "\n",
        "import matplotlib.pyplot as plt\n",
        "import matplotlib\n",
        "import seaborn as sns\n",
        "\n"
      ],
      "execution_count": 0,
      "outputs": []
    },
    {
      "metadata": {
        "id": "L4pdCPZ_cqmD",
        "colab_type": "code",
        "colab": {
          "base_uri": "https://localhost:8080/",
          "height": 122
        },
        "outputId": "27b307b8-925e-4cd2-91c3-623e224d5ce1"
      },
      "cell_type": "code",
      "source": [
        "from google.colab import drive\n",
        "drive.mount('/content/drive')"
      ],
      "execution_count": 6,
      "outputs": [
        {
          "output_type": "stream",
          "text": [
            "Go to this URL in a browser: https://accounts.google.com/o/oauth2/auth?client_id=947318989803-6bn6qk8qdgf4n4g3pfee6491hc0brc4i.apps.googleusercontent.com&redirect_uri=urn%3Aietf%3Awg%3Aoauth%3A2.0%3Aoob&scope=email%20https%3A%2F%2Fwww.googleapis.com%2Fauth%2Fdocs.test%20https%3A%2F%2Fwww.googleapis.com%2Fauth%2Fdrive%20https%3A%2F%2Fwww.googleapis.com%2Fauth%2Fdrive.photos.readonly%20https%3A%2F%2Fwww.googleapis.com%2Fauth%2Fpeopleapi.readonly&response_type=code\n",
            "\n",
            "Enter your authorization code:\n",
            "··········\n",
            "Mounted at /content/drive\n"
          ],
          "name": "stdout"
        }
      ]
    },
    {
      "metadata": {
        "id": "zuqTtGG9c20j",
        "colab_type": "code",
        "colab": {}
      },
      "cell_type": "code",
      "source": [
        "train_trips = pd.read_csv(\"/content/drive/My Drive/instacart_data/train_trips.csv\",\\\n",
        "                         parse_dates=['shopping_started_at','shopping_ended_at'])\n",
        "test_trips  = pd.read_csv(\"/content/drive/My Drive/instacart_data/test_trips.csv\",\n",
        "                         parse_dates=['shopping_started_at'])\n",
        "order_items = pd.read_csv(\"/content/drive/My Drive/instacart_data/order_items.csv\")"
      ],
      "execution_count": 0,
      "outputs": []
    },
    {
      "metadata": {
        "id": "HRtovKJ9ozxK",
        "colab_type": "text"
      },
      "cell_type": "markdown",
      "source": [
        "## 1. Data Exploration\n",
        "\n",
        "Let's first have a glance at the data in all tables"
      ]
    },
    {
      "metadata": {
        "id": "8BzoiaqFfjQl",
        "colab_type": "code",
        "colab": {
          "base_uri": "https://localhost:8080/",
          "height": 204
        },
        "outputId": "965ba4bb-02d4-45a6-90d2-72f7359b6bdd"
      },
      "cell_type": "code",
      "source": [
        "order_items.head(5)"
      ],
      "execution_count": 204,
      "outputs": [
        {
          "output_type": "execute_result",
          "data": {
            "text/html": [
              "<div>\n",
              "<style scoped>\n",
              "    .dataframe tbody tr th:only-of-type {\n",
              "        vertical-align: middle;\n",
              "    }\n",
              "\n",
              "    .dataframe tbody tr th {\n",
              "        vertical-align: top;\n",
              "    }\n",
              "\n",
              "    .dataframe thead th {\n",
              "        text-align: right;\n",
              "    }\n",
              "</style>\n",
              "<table border=\"1\" class=\"dataframe\">\n",
              "  <thead>\n",
              "    <tr style=\"text-align: right;\">\n",
              "      <th></th>\n",
              "      <th>trip_id</th>\n",
              "      <th>item_id</th>\n",
              "      <th>department_name</th>\n",
              "      <th>quantity</th>\n",
              "    </tr>\n",
              "  </thead>\n",
              "  <tbody>\n",
              "    <tr>\n",
              "      <th>0</th>\n",
              "      <td>3119513</td>\n",
              "      <td>368671</td>\n",
              "      <td>Produce</td>\n",
              "      <td>10.0</td>\n",
              "    </tr>\n",
              "    <tr>\n",
              "      <th>1</th>\n",
              "      <td>3120462</td>\n",
              "      <td>368671</td>\n",
              "      <td>Produce</td>\n",
              "      <td>10.0</td>\n",
              "    </tr>\n",
              "    <tr>\n",
              "      <th>2</th>\n",
              "      <td>3120473</td>\n",
              "      <td>368671</td>\n",
              "      <td>Produce</td>\n",
              "      <td>10.0</td>\n",
              "    </tr>\n",
              "    <tr>\n",
              "      <th>3</th>\n",
              "      <td>3121910</td>\n",
              "      <td>368671</td>\n",
              "      <td>Produce</td>\n",
              "      <td>6.0</td>\n",
              "    </tr>\n",
              "    <tr>\n",
              "      <th>4</th>\n",
              "      <td>3122332</td>\n",
              "      <td>368671</td>\n",
              "      <td>Produce</td>\n",
              "      <td>10.0</td>\n",
              "    </tr>\n",
              "  </tbody>\n",
              "</table>\n",
              "</div>"
            ],
            "text/plain": [
              "   trip_id  item_id department_name  quantity\n",
              "0  3119513   368671         Produce      10.0\n",
              "1  3120462   368671         Produce      10.0\n",
              "2  3120473   368671         Produce      10.0\n",
              "3  3121910   368671         Produce       6.0\n",
              "4  3122332   368671         Produce      10.0"
            ]
          },
          "metadata": {
            "tags": []
          },
          "execution_count": 204
        }
      ]
    },
    {
      "metadata": {
        "id": "kNNPc4Wef1sn",
        "colab_type": "code",
        "colab": {
          "base_uri": "https://localhost:8080/",
          "height": 204
        },
        "outputId": "84aaa72b-d06f-4953-b0fd-d87b99984b22"
      },
      "cell_type": "code",
      "source": [
        "train_trips.head(5)"
      ],
      "execution_count": 205,
      "outputs": [
        {
          "output_type": "execute_result",
          "data": {
            "text/html": [
              "<div>\n",
              "<style scoped>\n",
              "    .dataframe tbody tr th:only-of-type {\n",
              "        vertical-align: middle;\n",
              "    }\n",
              "\n",
              "    .dataframe tbody tr th {\n",
              "        vertical-align: top;\n",
              "    }\n",
              "\n",
              "    .dataframe thead th {\n",
              "        text-align: right;\n",
              "    }\n",
              "</style>\n",
              "<table border=\"1\" class=\"dataframe\">\n",
              "  <thead>\n",
              "    <tr style=\"text-align: right;\">\n",
              "      <th></th>\n",
              "      <th>trip_id</th>\n",
              "      <th>shopper_id</th>\n",
              "      <th>fulfillment_model</th>\n",
              "      <th>store_id</th>\n",
              "      <th>shopping_started_at</th>\n",
              "      <th>shopping_ended_at</th>\n",
              "    </tr>\n",
              "  </thead>\n",
              "  <tbody>\n",
              "    <tr>\n",
              "      <th>0</th>\n",
              "      <td>3119519</td>\n",
              "      <td>48539</td>\n",
              "      <td>model_1</td>\n",
              "      <td>6</td>\n",
              "      <td>2015-09-01 07:03:56</td>\n",
              "      <td>2015-09-01 07:30:56</td>\n",
              "    </tr>\n",
              "    <tr>\n",
              "      <th>1</th>\n",
              "      <td>3119513</td>\n",
              "      <td>3775</td>\n",
              "      <td>model_1</td>\n",
              "      <td>1</td>\n",
              "      <td>2015-09-01 07:04:33</td>\n",
              "      <td>2015-09-01 07:40:33</td>\n",
              "    </tr>\n",
              "    <tr>\n",
              "      <th>2</th>\n",
              "      <td>3119516</td>\n",
              "      <td>4362</td>\n",
              "      <td>model_1</td>\n",
              "      <td>1</td>\n",
              "      <td>2015-09-01 07:23:21</td>\n",
              "      <td>2015-09-01 07:41:21</td>\n",
              "    </tr>\n",
              "    <tr>\n",
              "      <th>3</th>\n",
              "      <td>3119792</td>\n",
              "      <td>47659</td>\n",
              "      <td>model_1</td>\n",
              "      <td>1</td>\n",
              "      <td>2015-09-01 07:29:52</td>\n",
              "      <td>2015-09-01 08:55:52</td>\n",
              "    </tr>\n",
              "    <tr>\n",
              "      <th>4</th>\n",
              "      <td>3119922</td>\n",
              "      <td>11475</td>\n",
              "      <td>model_1</td>\n",
              "      <td>1</td>\n",
              "      <td>2015-09-01 07:32:21</td>\n",
              "      <td>2015-09-01 09:01:21</td>\n",
              "    </tr>\n",
              "  </tbody>\n",
              "</table>\n",
              "</div>"
            ],
            "text/plain": [
              "   trip_id  shopper_id fulfillment_model  store_id shopping_started_at  \\\n",
              "0  3119519       48539           model_1         6 2015-09-01 07:03:56   \n",
              "1  3119513        3775           model_1         1 2015-09-01 07:04:33   \n",
              "2  3119516        4362           model_1         1 2015-09-01 07:23:21   \n",
              "3  3119792       47659           model_1         1 2015-09-01 07:29:52   \n",
              "4  3119922       11475           model_1         1 2015-09-01 07:32:21   \n",
              "\n",
              "    shopping_ended_at  \n",
              "0 2015-09-01 07:30:56  \n",
              "1 2015-09-01 07:40:33  \n",
              "2 2015-09-01 07:41:21  \n",
              "3 2015-09-01 08:55:52  \n",
              "4 2015-09-01 09:01:21  "
            ]
          },
          "metadata": {
            "tags": []
          },
          "execution_count": 205
        }
      ]
    },
    {
      "metadata": {
        "id": "DU6MWR_Go-C_",
        "colab_type": "code",
        "colab": {
          "base_uri": "https://localhost:8080/",
          "height": 204
        },
        "outputId": "c75f2b9c-a97b-479a-8f0b-cec18ffd4829"
      },
      "cell_type": "code",
      "source": [
        "test_trips.head(5)"
      ],
      "execution_count": 206,
      "outputs": [
        {
          "output_type": "execute_result",
          "data": {
            "text/html": [
              "<div>\n",
              "<style scoped>\n",
              "    .dataframe tbody tr th:only-of-type {\n",
              "        vertical-align: middle;\n",
              "    }\n",
              "\n",
              "    .dataframe tbody tr th {\n",
              "        vertical-align: top;\n",
              "    }\n",
              "\n",
              "    .dataframe thead th {\n",
              "        text-align: right;\n",
              "    }\n",
              "</style>\n",
              "<table border=\"1\" class=\"dataframe\">\n",
              "  <thead>\n",
              "    <tr style=\"text-align: right;\">\n",
              "      <th></th>\n",
              "      <th>trip_id</th>\n",
              "      <th>shopper_id</th>\n",
              "      <th>fulfillment_model</th>\n",
              "      <th>store_id</th>\n",
              "      <th>shopping_started_at</th>\n",
              "    </tr>\n",
              "  </thead>\n",
              "  <tbody>\n",
              "    <tr>\n",
              "      <th>0</th>\n",
              "      <td>4310899</td>\n",
              "      <td>60930</td>\n",
              "      <td>model_2</td>\n",
              "      <td>123</td>\n",
              "      <td>2015-11-16 07:00:12</td>\n",
              "    </tr>\n",
              "    <tr>\n",
              "      <th>1</th>\n",
              "      <td>4310904</td>\n",
              "      <td>59815</td>\n",
              "      <td>model_2</td>\n",
              "      <td>123</td>\n",
              "      <td>2015-11-16 07:00:12</td>\n",
              "    </tr>\n",
              "    <tr>\n",
              "      <th>2</th>\n",
              "      <td>4310907</td>\n",
              "      <td>60878</td>\n",
              "      <td>model_2</td>\n",
              "      <td>123</td>\n",
              "      <td>2015-11-16 07:00:13</td>\n",
              "    </tr>\n",
              "    <tr>\n",
              "      <th>3</th>\n",
              "      <td>4310911</td>\n",
              "      <td>60879</td>\n",
              "      <td>model_2</td>\n",
              "      <td>123</td>\n",
              "      <td>2015-11-16 07:00:13</td>\n",
              "    </tr>\n",
              "    <tr>\n",
              "      <th>4</th>\n",
              "      <td>4310328</td>\n",
              "      <td>66726</td>\n",
              "      <td>model_1</td>\n",
              "      <td>1</td>\n",
              "      <td>2015-11-16 07:01:08</td>\n",
              "    </tr>\n",
              "  </tbody>\n",
              "</table>\n",
              "</div>"
            ],
            "text/plain": [
              "   trip_id  shopper_id fulfillment_model  store_id shopping_started_at\n",
              "0  4310899       60930           model_2       123 2015-11-16 07:00:12\n",
              "1  4310904       59815           model_2       123 2015-11-16 07:00:12\n",
              "2  4310907       60878           model_2       123 2015-11-16 07:00:13\n",
              "3  4310911       60879           model_2       123 2015-11-16 07:00:13\n",
              "4  4310328       66726           model_1         1 2015-11-16 07:01:08"
            ]
          },
          "metadata": {
            "tags": []
          },
          "execution_count": 206
        }
      ]
    },
    {
      "metadata": {
        "id": "4qwDWf_kpB98",
        "colab_type": "code",
        "colab": {
          "base_uri": "https://localhost:8080/",
          "height": 425
        },
        "outputId": "1b913f77-bbef-4cc1-e647-c5938c985455"
      },
      "cell_type": "code",
      "source": [
        "print(\"nulls in train_trips \\n\",train_trips.isnull().any(),\"\\n\")\n",
        "print(\"nulls in test_trips \\n\",test_trips.isnull().any(),\"\\n\")\n",
        "print(\"nulls in order_items \\n\",order_items.isnull().any(),\"\\n\")"
      ],
      "execution_count": 207,
      "outputs": [
        {
          "output_type": "stream",
          "text": [
            "nulls in train_trips \n",
            " trip_id                False\n",
            "shopper_id             False\n",
            "fulfillment_model      False\n",
            "store_id               False\n",
            "shopping_started_at    False\n",
            "shopping_ended_at      False\n",
            "dtype: bool \n",
            "\n",
            "nulls in test_trips \n",
            " trip_id                False\n",
            "shopper_id             False\n",
            "fulfillment_model      False\n",
            "store_id               False\n",
            "shopping_started_at    False\n",
            "dtype: bool \n",
            "\n",
            "nulls in order_items \n",
            " trip_id            False\n",
            "item_id            False\n",
            "department_name    False\n",
            "quantity           False\n",
            "dtype: bool \n",
            "\n"
          ],
          "name": "stdout"
        }
      ]
    },
    {
      "metadata": {
        "id": "8OPw8eRitsc2",
        "colab_type": "text"
      },
      "cell_type": "markdown",
      "source": [
        "Thus, there are no missing values in the datasets.\n",
        "\n",
        "Next, lets explore what's the average number of items that are purchased per trip . To do this we focus on 'order_items'  data\n"
      ]
    },
    {
      "metadata": {
        "id": "ghJc1iyVuHCu",
        "colab_type": "code",
        "colab": {
          "base_uri": "https://localhost:8080/",
          "height": 34
        },
        "outputId": "d8b67494-377a-4a70-f31b-1c231f698236"
      },
      "cell_type": "code",
      "source": [
        "grouped_items_by_trip = order_items.groupby(['trip_id']).item_id.nunique()\n",
        "print(\"number of unique items purchased per trip = \", \\\n",
        "                grouped_items_by_trip.sum()/len(grouped_items_by_trip))"
      ],
      "execution_count": 208,
      "outputs": [
        {
          "output_type": "stream",
          "text": [
            "number of unique items purchased per trip =  15.851806386450159\n"
          ],
          "name": "stdout"
        }
      ]
    },
    {
      "metadata": {
        "id": "Xj3LWNFuv8Ow",
        "colab_type": "text"
      },
      "cell_type": "markdown",
      "source": [
        "There were unique 15.85 items purchased per trip.\n",
        "\n",
        "Now, let's look at average quantity of items purchased per trip and number of different departments visited per trip."
      ]
    },
    {
      "metadata": {
        "id": "hRvvCYaWsgr3",
        "colab_type": "code",
        "colab": {
          "base_uri": "https://localhost:8080/",
          "height": 68
        },
        "outputId": "fbfdc04d-63d3-4536-c375-2eec91cb578e"
      },
      "cell_type": "code",
      "source": [
        "grouped_quantities_by_trip = order_items.groupby(['trip_id']).agg({'quantity':np.sum})\n",
        "print(\"average quantity of all items bought per trip = \", \\\n",
        "                   grouped_quantities_by_trip.sum()/len(grouped_quantities_by_trip))\n",
        "\n",
        "grouped_departments_by_trip = order_items.groupby(['trip_id']).department_name.nunique()\n",
        "print(\"average number of departments visited per trip = \", \\\n",
        "                    grouped_departments_by_trip.sum()/len(grouped_departments_by_trip))"
      ],
      "execution_count": 209,
      "outputs": [
        {
          "output_type": "stream",
          "text": [
            "average quantity of all items bought per trip =  quantity    25.54083\n",
            "dtype: float64\n",
            "average number of departments visited per trip =  6.664517131536011\n"
          ],
          "name": "stdout"
        }
      ]
    },
    {
      "metadata": {
        "id": "AefahxCAxVy-",
        "colab_type": "text"
      },
      "cell_type": "markdown",
      "source": [
        ""
      ]
    },
    {
      "metadata": {
        "id": "oEbm0ICdxIQY",
        "colab_type": "text"
      },
      "cell_type": "markdown",
      "source": [
        "There avg. of the quantity of all items bought in a trip is 25.54\n",
        "and the average number of departments visited per visit are 6.67\n",
        "\n",
        "Intuitively we can say that these quantites ie. average quantity per trip, average items per trip and average number of departments visited per trip should have a lot of bearing on the response variable which is shopping time. \n",
        "This we will explore further but first let's join the train_trip and order_items datasets.\n"
      ]
    },
    {
      "metadata": {
        "id": "pKenYlG3w8WQ",
        "colab_type": "text"
      },
      "cell_type": "markdown",
      "source": [
        ""
      ]
    },
    {
      "metadata": {
        "id": "d69sCNctvDtV",
        "colab_type": "code",
        "colab": {
          "base_uri": "https://localhost:8080/",
          "height": 224
        },
        "outputId": "99823b92-d0f1-4c90-dc98-abfbd43bdd55"
      },
      "cell_type": "code",
      "source": [
        "# First get shopping time for start and end times\n",
        "# get differece in seconds\n",
        "train_trips['trip_shop_time'] = (train_trips['shopping_ended_at'] - \\\n",
        "                                 train_trips['shopping_started_at']).dt.total_seconds()\n",
        "\n",
        "# join train_trips with order_items\n",
        "merged_train_order = train_trips.merge(order_items, how='left',on = 'trip_id')\n",
        "merged_train_order.head(5)"
      ],
      "execution_count": 210,
      "outputs": [
        {
          "output_type": "execute_result",
          "data": {
            "text/html": [
              "<div>\n",
              "<style scoped>\n",
              "    .dataframe tbody tr th:only-of-type {\n",
              "        vertical-align: middle;\n",
              "    }\n",
              "\n",
              "    .dataframe tbody tr th {\n",
              "        vertical-align: top;\n",
              "    }\n",
              "\n",
              "    .dataframe thead th {\n",
              "        text-align: right;\n",
              "    }\n",
              "</style>\n",
              "<table border=\"1\" class=\"dataframe\">\n",
              "  <thead>\n",
              "    <tr style=\"text-align: right;\">\n",
              "      <th></th>\n",
              "      <th>trip_id</th>\n",
              "      <th>shopper_id</th>\n",
              "      <th>fulfillment_model</th>\n",
              "      <th>store_id</th>\n",
              "      <th>shopping_started_at</th>\n",
              "      <th>shopping_ended_at</th>\n",
              "      <th>trip_shop_time</th>\n",
              "      <th>item_id</th>\n",
              "      <th>department_name</th>\n",
              "      <th>quantity</th>\n",
              "    </tr>\n",
              "  </thead>\n",
              "  <tbody>\n",
              "    <tr>\n",
              "      <th>0</th>\n",
              "      <td>3119519</td>\n",
              "      <td>48539</td>\n",
              "      <td>model_1</td>\n",
              "      <td>6</td>\n",
              "      <td>2015-09-01 07:03:56</td>\n",
              "      <td>2015-09-01 07:30:56</td>\n",
              "      <td>1620.0</td>\n",
              "      <td>619098</td>\n",
              "      <td>Meat &amp; Seafood</td>\n",
              "      <td>1.0</td>\n",
              "    </tr>\n",
              "    <tr>\n",
              "      <th>1</th>\n",
              "      <td>3119519</td>\n",
              "      <td>48539</td>\n",
              "      <td>model_1</td>\n",
              "      <td>6</td>\n",
              "      <td>2015-09-01 07:03:56</td>\n",
              "      <td>2015-09-01 07:30:56</td>\n",
              "      <td>1620.0</td>\n",
              "      <td>313592</td>\n",
              "      <td>Produce</td>\n",
              "      <td>1.0</td>\n",
              "    </tr>\n",
              "    <tr>\n",
              "      <th>2</th>\n",
              "      <td>3119519</td>\n",
              "      <td>48539</td>\n",
              "      <td>model_1</td>\n",
              "      <td>6</td>\n",
              "      <td>2015-09-01 07:03:56</td>\n",
              "      <td>2015-09-01 07:30:56</td>\n",
              "      <td>1620.0</td>\n",
              "      <td>979903</td>\n",
              "      <td>Bakery</td>\n",
              "      <td>1.0</td>\n",
              "    </tr>\n",
              "    <tr>\n",
              "      <th>3</th>\n",
              "      <td>3119519</td>\n",
              "      <td>48539</td>\n",
              "      <td>model_1</td>\n",
              "      <td>6</td>\n",
              "      <td>2015-09-01 07:03:56</td>\n",
              "      <td>2015-09-01 07:30:56</td>\n",
              "      <td>1620.0</td>\n",
              "      <td>1331310</td>\n",
              "      <td>Breakfast</td>\n",
              "      <td>1.0</td>\n",
              "    </tr>\n",
              "    <tr>\n",
              "      <th>4</th>\n",
              "      <td>3119519</td>\n",
              "      <td>48539</td>\n",
              "      <td>model_1</td>\n",
              "      <td>6</td>\n",
              "      <td>2015-09-01 07:03:56</td>\n",
              "      <td>2015-09-01 07:30:56</td>\n",
              "      <td>1620.0</td>\n",
              "      <td>1329835</td>\n",
              "      <td>Snacks</td>\n",
              "      <td>2.0</td>\n",
              "    </tr>\n",
              "  </tbody>\n",
              "</table>\n",
              "</div>"
            ],
            "text/plain": [
              "   trip_id  shopper_id fulfillment_model  store_id shopping_started_at  \\\n",
              "0  3119519       48539           model_1         6 2015-09-01 07:03:56   \n",
              "1  3119519       48539           model_1         6 2015-09-01 07:03:56   \n",
              "2  3119519       48539           model_1         6 2015-09-01 07:03:56   \n",
              "3  3119519       48539           model_1         6 2015-09-01 07:03:56   \n",
              "4  3119519       48539           model_1         6 2015-09-01 07:03:56   \n",
              "\n",
              "    shopping_ended_at  trip_shop_time  item_id department_name  quantity  \n",
              "0 2015-09-01 07:30:56          1620.0   619098  Meat & Seafood       1.0  \n",
              "1 2015-09-01 07:30:56          1620.0   313592         Produce       1.0  \n",
              "2 2015-09-01 07:30:56          1620.0   979903          Bakery       1.0  \n",
              "3 2015-09-01 07:30:56          1620.0  1331310       Breakfast       1.0  \n",
              "4 2015-09-01 07:30:56          1620.0  1329835          Snacks       2.0  "
            ]
          },
          "metadata": {
            "tags": []
          },
          "execution_count": 210
        }
      ]
    },
    {
      "metadata": {
        "id": "FXKClfVFk3FJ",
        "colab_type": "text"
      },
      "cell_type": "markdown",
      "source": [
        "Let's look closely at the ID columns ie trip_id, shopper_id and store_id.\n",
        "trip_id is a unique value that identifies a trip in the training set (train_trips)\n",
        "shopper_id represents a unique shopper whereas store_id identifies a grocery store.\n"
      ]
    },
    {
      "metadata": {
        "id": "3ACoCtwuwiwK",
        "colab_type": "code",
        "colab": {
          "base_uri": "https://localhost:8080/",
          "height": 102
        },
        "outputId": "0a3f1122-fb09-42e2-8684-2ef411ef3113"
      },
      "cell_type": "code",
      "source": [
        "print('counts of unique IDs')\n",
        "merged_train_order[['trip_id','shopper_id','store_id']].nunique()"
      ],
      "execution_count": 211,
      "outputs": [
        {
          "output_type": "stream",
          "text": [
            "counts of unique IDs\n"
          ],
          "name": "stdout"
        },
        {
          "output_type": "execute_result",
          "data": {
            "text/plain": [
              "trip_id       117063\n",
              "shopper_id      1506\n",
              "store_id          14\n",
              "dtype: int64"
            ]
          },
          "metadata": {
            "tags": []
          },
          "execution_count": 211
        }
      ]
    },
    {
      "metadata": {
        "id": "_j_r1wswk0gl",
        "colab_type": "text"
      },
      "cell_type": "markdown",
      "source": [
        "Similarly, for the test_trips, trip_id uniquely identifies a row.\n",
        "Therefore, trip_id shouldn't be a feature/predictor for shopping time. As we will see in the next sections shopper_id and store_id will be used as two of the predictors. \n",
        "\n",
        "We can better understand the correlation of shopper_id and store_id with that of shopping time through visualizations."
      ]
    },
    {
      "metadata": {
        "id": "9HrwScByBDTY",
        "colab_type": "code",
        "colab": {
          "base_uri": "https://localhost:8080/",
          "height": 378
        },
        "outputId": "95972840-dbf9-4f90-8d37-a01ba5813287"
      },
      "cell_type": "code",
      "source": [
        "# plot shopping time versus shopper_id\n",
        "groupby_shopper_id = merged_train_order.groupby(['shopper_id']).agg({'trip_shop_time':np.mean}).reset_index()\n",
        "plt.scatter(groupby_shopper_id['shopper_id'],\\\n",
        "        groupby_shopper_id['trip_shop_time'], \\\n",
        "            5,label='shopping time wrt. shopper_id',color='C1')\n",
        "plt.xlabel('shopper_id')\n",
        "plt.ylabel('shopping time in seconds')\n",
        "\n"
      ],
      "execution_count": 212,
      "outputs": [
        {
          "output_type": "execute_result",
          "data": {
            "text/plain": [
              "Text(0,0.5,'shopping time in seconds')"
            ]
          },
          "metadata": {
            "tags": []
          },
          "execution_count": 212
        },
        {
          "output_type": "display_data",
          "data": {
            "image/png": "[encoded data removed]",
            "text/plain": [
              "<matplotlib.figure.Figure at 0x7fa7899db518>"
            ]
          },
          "metadata": {
            "tags": []
          }
        }
      ]
    },
    {
      "metadata": {
        "id": "HAcrayjSvb1n",
        "colab_type": "code",
        "colab": {
          "base_uri": "https://localhost:8080/",
          "height": 378
        },
        "outputId": "69cfe5d2-c292-4635-e3c4-4b2d41249a3e"
      },
      "cell_type": "code",
      "source": [
        "# plot shopping time versus store_id\n",
        "groupby_store_id = merged_train_order.groupby(['store_id']).agg({'trip_shop_time':np.mean}).reset_index()\n",
        "plt.bar(groupby_store_id['store_id'],\\\n",
        "        groupby_store_id['trip_shop_time'], \\\n",
        "            2,label='shopping time wrt. store_id',color='C2',\n",
        "           align='center')\n",
        "plt.xlabel('store_id')\n",
        "plt.ylabel('shopping time in seconds')"
      ],
      "execution_count": 213,
      "outputs": [
        {
          "output_type": "execute_result",
          "data": {
            "text/plain": [
              "Text(0,0.5,'shopping time in seconds')"
            ]
          },
          "metadata": {
            "tags": []
          },
          "execution_count": 213
        },
        {
          "output_type": "display_data",
          "data": {
            "image/png": "[encoded data removed]",
            "text/plain": [
              "<matplotlib.figure.Figure at 0x7fa765de4550>"
            ]
          },
          "metadata": {
            "tags": []
          }
        }
      ]
    },
    {
      "metadata": {
        "id": "SXeKafHWwOar",
        "colab_type": "code",
        "colab": {
          "base_uri": "https://localhost:8080/",
          "height": 456
        },
        "outputId": "492dc35d-6663-46e6-b054-1942e7f15660"
      },
      "cell_type": "code",
      "source": [
        "# shopping time versus department\n",
        "groupby_department = merged_train_order.groupby(['department_name']).agg({'trip_shop_time':np.mean}).reset_index()\n",
        "plt.scatter(groupby_department['department_name'],\\\n",
        "        groupby_department['trip_shop_time'], \\\n",
        "            5,label='shopping time wrt. department_name',color='C2')\n",
        "plt.xlabel('department_name')\n",
        "plt.xticks(rotation=90)\n",
        "plt.ylabel('shopping time in seconds')\n",
        "ax = plt.gca()\n",
        "ax.tick_params(axis='both', which='major',labelsize=7)"
      ],
      "execution_count": 214,
      "outputs": [
        {
          "output_type": "display_data",
          "data": {
            "image/png": "[encoded data removed]",
            "text/plain": [
              "<matplotlib.figure.Figure at 0x7fa7618eb898>"
            ]
          },
          "metadata": {
            "tags": []
          }
        }
      ]
    },
    {
      "metadata": {
        "id": "KddcnLEyuqYu",
        "colab_type": "text"
      },
      "cell_type": "markdown",
      "source": [
        "Distribution of shopping time. "
      ]
    },
    {
      "metadata": {
        "id": "FVdgp_y6oOEh",
        "colab_type": "code",
        "colab": {
          "base_uri": "https://localhost:8080/",
          "height": 378
        },
        "outputId": "48b4f401-fd3e-4815-c6f3-fa570caf87fa"
      },
      "cell_type": "code",
      "source": [
        "# shopping time distribution\n",
        "sns.distplot(merged_train_order['trip_shop_time'])"
      ],
      "execution_count": 215,
      "outputs": [
        {
          "output_type": "execute_result",
          "data": {
            "text/plain": [
              "<matplotlib.axes._subplots.AxesSubplot at 0x7fa7618f0a90>"
            ]
          },
          "metadata": {
            "tags": []
          },
          "execution_count": 215
        },
        {
          "output_type": "display_data",
          "data": {
            "image/png": "[encoded data removed]",
            "text/plain": [
              "<matplotlib.figure.Figure at 0x7fa7663ba978>"
            ]
          },
          "metadata": {
            "tags": []
          }
        }
      ]
    },
    {
      "metadata": {
        "id": "BBVUofKtuCfd",
        "colab_type": "text"
      },
      "cell_type": "markdown",
      "source": [
        "## 2. Feature Engineering"
      ]
    },
    {
      "metadata": {
        "id": "Wd-zKGWI7iCZ",
        "colab_type": "code",
        "colab": {
          "base_uri": "https://localhost:8080/",
          "height": 34
        },
        "outputId": "11caee23-cb7e-4924-d3bc-f9a76a562c19"
      },
      "cell_type": "code",
      "source": [
        "print(\"number of departments=\",len(finalTrainData['department_name'].unique()))"
      ],
      "execution_count": 216,
      "outputs": [
        {
          "output_type": "stream",
          "text": [
            "number of departments= 83\n"
          ],
          "name": "stdout"
        }
      ]
    },
    {
      "metadata": {
        "id": "9LCLe2xT5VO0",
        "colab_type": "text"
      },
      "cell_type": "markdown",
      "source": [
        "As we can see in the above plots, there is a significant variation in shopping time among different departments, so it will be good idea to represent this in our feature set.  To do this a new set of columns are created that represent quantity of items for each department. \n",
        "\n",
        "There are 83 unique departments in all the stores which will introduce 83 new columns representing quantity for each of the department for a specific trip's shopper_id, store_id combination.\n",
        "\n",
        "First prepare data that give total count of departments visited per trip for a \n",
        "(shopper_id, store_id) at a specific time\n",
        "To do this, 'trip_id','store_id','department_name','item_id','fulfillment_model',\n",
        "'shopping_started_at' are considered to be the primary keys and 'quantity', 'item_id', 'trip_shop_time',\n",
        " are aggregated and 'shopped_id' would remain the same for these primary keys"
      ]
    },
    {
      "metadata": {
        "id": "NvSxgPFBuZmX",
        "colab_type": "code",
        "colab": {
          "base_uri": "https://localhost:8080/",
          "height": 224
        },
        "outputId": "a256ad37-f97c-4ff3-ada8-e7f674c7472a"
      },
      "cell_type": "code",
      "source": [
        "combined_count_data= merged_train_order.groupby(['trip_id','store_id','department_name',\\\n",
        "              'fulfillment_model','shopping_started_at']).agg({'quantity':np.sum,\\\n",
        "               'trip_shop_time':np.mean,'shopper_id':np.mean, 'item_id':'nunique'}).reset_index()\n",
        "# Next we can drop 'fulfilment_model'\n",
        "combined_count_data = combined_count_data.groupby(['trip_id','store_id','shopper_id','shopping_started_at']).\\\n",
        "                        agg({'item_id':'nunique', 'trip_shop_time':np.mean, \\\n",
        "                             'quantity':np.mean, 'department_name':'nunique'}).reset_index()\n",
        "combined_count_data = combined_count_data.rename(columns = {'item_id':'total_unique_items','department_name':'total_depts_visited',\n",
        "                                 'quantity':'total_quantity'})\n",
        "combined_count_data.head(5)\n",
        "\n"
      ],
      "execution_count": 217,
      "outputs": [
        {
          "output_type": "execute_result",
          "data": {
            "text/html": [
              "<div>\n",
              "<style scoped>\n",
              "    .dataframe tbody tr th:only-of-type {\n",
              "        vertical-align: middle;\n",
              "    }\n",
              "\n",
              "    .dataframe tbody tr th {\n",
              "        vertical-align: top;\n",
              "    }\n",
              "\n",
              "    .dataframe thead th {\n",
              "        text-align: right;\n",
              "    }\n",
              "</style>\n",
              "<table border=\"1\" class=\"dataframe\">\n",
              "  <thead>\n",
              "    <tr style=\"text-align: right;\">\n",
              "      <th></th>\n",
              "      <th>trip_id</th>\n",
              "      <th>store_id</th>\n",
              "      <th>shopper_id</th>\n",
              "      <th>shopping_started_at</th>\n",
              "      <th>total_unique_items</th>\n",
              "      <th>trip_shop_time</th>\n",
              "      <th>total_quantity</th>\n",
              "      <th>total_depts_visited</th>\n",
              "    </tr>\n",
              "  </thead>\n",
              "  <tbody>\n",
              "    <tr>\n",
              "      <th>0</th>\n",
              "      <td>3119513</td>\n",
              "      <td>1</td>\n",
              "      <td>3775</td>\n",
              "      <td>2015-09-01 07:04:33</td>\n",
              "      <td>5</td>\n",
              "      <td>2160.0</td>\n",
              "      <td>22.875000</td>\n",
              "      <td>8</td>\n",
              "    </tr>\n",
              "    <tr>\n",
              "      <th>1</th>\n",
              "      <td>3119516</td>\n",
              "      <td>1</td>\n",
              "      <td>4362</td>\n",
              "      <td>2015-09-01 07:23:21</td>\n",
              "      <td>1</td>\n",
              "      <td>1080.0</td>\n",
              "      <td>1.800000</td>\n",
              "      <td>5</td>\n",
              "    </tr>\n",
              "    <tr>\n",
              "      <th>2</th>\n",
              "      <td>3119518</td>\n",
              "      <td>1</td>\n",
              "      <td>10720</td>\n",
              "      <td>2015-09-01 07:37:53</td>\n",
              "      <td>4</td>\n",
              "      <td>2460.0</td>\n",
              "      <td>3.500000</td>\n",
              "      <td>6</td>\n",
              "    </tr>\n",
              "    <tr>\n",
              "      <th>3</th>\n",
              "      <td>3119519</td>\n",
              "      <td>6</td>\n",
              "      <td>48539</td>\n",
              "      <td>2015-09-01 07:03:56</td>\n",
              "      <td>5</td>\n",
              "      <td>1620.0</td>\n",
              "      <td>3.545455</td>\n",
              "      <td>11</td>\n",
              "    </tr>\n",
              "    <tr>\n",
              "      <th>4</th>\n",
              "      <td>3119520</td>\n",
              "      <td>115</td>\n",
              "      <td>43442</td>\n",
              "      <td>2015-09-01 07:39:11</td>\n",
              "      <td>5</td>\n",
              "      <td>3600.0</td>\n",
              "      <td>2.571429</td>\n",
              "      <td>14</td>\n",
              "    </tr>\n",
              "  </tbody>\n",
              "</table>\n",
              "</div>"
            ],
            "text/plain": [
              "   trip_id  store_id  shopper_id shopping_started_at  total_unique_items  \\\n",
              "0  3119513         1        3775 2015-09-01 07:04:33                   5   \n",
              "1  3119516         1        4362 2015-09-01 07:23:21                   1   \n",
              "2  3119518         1       10720 2015-09-01 07:37:53                   4   \n",
              "3  3119519         6       48539 2015-09-01 07:03:56                   5   \n",
              "4  3119520       115       43442 2015-09-01 07:39:11                   5   \n",
              "\n",
              "   trip_shop_time  total_quantity  total_depts_visited  \n",
              "0          2160.0       22.875000                    8  \n",
              "1          1080.0        1.800000                    5  \n",
              "2          2460.0        3.500000                    6  \n",
              "3          1620.0        3.545455                   11  \n",
              "4          3600.0        2.571429                   14  "
            ]
          },
          "metadata": {
            "tags": []
          },
          "execution_count": 217
        }
      ]
    },
    {
      "metadata": {
        "id": "c9uhupJglQkV",
        "colab_type": "text"
      },
      "cell_type": "markdown",
      "source": [
        "Correlation matrix will give a picture of how shopping time varies with all other predictors.\n",
        "\n",
        "As we can see below 'total_unique_items', 'total_depts_visited', total_quantity' are the top three correlated predictors for shopping time"
      ]
    },
    {
      "metadata": {
        "id": "txb17-bIkyGc",
        "colab_type": "code",
        "colab": {
          "base_uri": "https://localhost:8080/",
          "height": 421
        },
        "outputId": "72b453e5-55cc-4b22-ce0b-c1e8326a605f"
      },
      "cell_type": "code",
      "source": [
        "correlation = combined_count_data.corr(method='pearson')\n",
        "columns = correlation.nlargest(10, 'trip_shop_time').index\n",
        "\n",
        "correlation_map = np.corrcoef(combined_count_data[columns].values.T)\n",
        "sns.set(font_scale=1.0)\n",
        "heatmap = sns.heatmap(correlation_map, cbar=True, annot=True, square=True, \\\n",
        "                      fmt='.2f', yticklabels=columns.values, xticklabels=columns.values)\n",
        "\n",
        "plt.show()"
      ],
      "execution_count": 218,
      "outputs": [
        {
          "output_type": "display_data",
          "data": {
            "image/png": "[encoded data removed]",
            "text/plain": [
              "<matplotlib.figure.Figure at 0x7fa766bf0a90>"
            ]
          },
          "metadata": {
            "tags": []
          }
        }
      ]
    },
    {
      "metadata": {
        "id": "1Zdj0GyNHnKW",
        "colab_type": "text"
      },
      "cell_type": "markdown",
      "source": [
        "Next, prepare data to get counts of each department's unique item count and quantity. And finally concatenate this dataframe with 'combined_count_data' "
      ]
    },
    {
      "metadata": {
        "id": "MnKnsBEWuxQo",
        "colab_type": "code",
        "colab": {
          "base_uri": "https://localhost:8080/",
          "height": 204
        },
        "outputId": "1060df69-a494-46fe-fe37-3c0220371cd8"
      },
      "cell_type": "code",
      "source": [
        "dept_count_data = merged_train_order.groupby(['trip_id','store_id','department_name',\\\n",
        "              'fulfillment_model','shopping_started_at']).agg({'quantity':np.sum,\\\n",
        "               'trip_shop_time':np.mean,'shopper_id':np.mean, 'item_id':'nunique'}).reset_index()\n",
        "\n",
        "dept_count_data = dept_count_data.groupby(['trip_id','store_id','department_name']).agg \\\n",
        "                        ({'quantity':np.mean, 'trip_shop_time':np.mean, 'shopper_id':np.mean, \\\n",
        "                         'item_id':'nunique'}).reset_index()\n",
        "dept_count_data = dept_count_data.rename(columns= {'quantity':'dept_quantity', \\\n",
        "                                                   'item_id':'dept_item_count'})\n",
        "\n",
        "dept_count_data.head(5)\n",
        "\n"
      ],
      "execution_count": 219,
      "outputs": [
        {
          "output_type": "execute_result",
          "data": {
            "text/html": [
              "<div>\n",
              "<style scoped>\n",
              "    .dataframe tbody tr th:only-of-type {\n",
              "        vertical-align: middle;\n",
              "    }\n",
              "\n",
              "    .dataframe tbody tr th {\n",
              "        vertical-align: top;\n",
              "    }\n",
              "\n",
              "    .dataframe thead th {\n",
              "        text-align: right;\n",
              "    }\n",
              "</style>\n",
              "<table border=\"1\" class=\"dataframe\">\n",
              "  <thead>\n",
              "    <tr style=\"text-align: right;\">\n",
              "      <th></th>\n",
              "      <th>trip_id</th>\n",
              "      <th>store_id</th>\n",
              "      <th>department_name</th>\n",
              "      <th>dept_quantity</th>\n",
              "      <th>trip_shop_time</th>\n",
              "      <th>shopper_id</th>\n",
              "      <th>dept_item_count</th>\n",
              "    </tr>\n",
              "  </thead>\n",
              "  <tbody>\n",
              "    <tr>\n",
              "      <th>0</th>\n",
              "      <td>3119513</td>\n",
              "      <td>1</td>\n",
              "      <td>Beverages</td>\n",
              "      <td>8.0</td>\n",
              "      <td>2160.0</td>\n",
              "      <td>3775</td>\n",
              "      <td>1</td>\n",
              "    </tr>\n",
              "    <tr>\n",
              "      <th>1</th>\n",
              "      <td>3119513</td>\n",
              "      <td>1</td>\n",
              "      <td>Dairy &amp; Eggs</td>\n",
              "      <td>28.0</td>\n",
              "      <td>2160.0</td>\n",
              "      <td>3775</td>\n",
              "      <td>1</td>\n",
              "    </tr>\n",
              "    <tr>\n",
              "      <th>2</th>\n",
              "      <td>3119513</td>\n",
              "      <td>1</td>\n",
              "      <td>Deli</td>\n",
              "      <td>1.0</td>\n",
              "      <td>2160.0</td>\n",
              "      <td>3775</td>\n",
              "      <td>1</td>\n",
              "    </tr>\n",
              "    <tr>\n",
              "      <th>3</th>\n",
              "      <td>3119513</td>\n",
              "      <td>1</td>\n",
              "      <td>International</td>\n",
              "      <td>1.0</td>\n",
              "      <td>2160.0</td>\n",
              "      <td>3775</td>\n",
              "      <td>1</td>\n",
              "    </tr>\n",
              "    <tr>\n",
              "      <th>4</th>\n",
              "      <td>3119513</td>\n",
              "      <td>1</td>\n",
              "      <td>Pantry</td>\n",
              "      <td>1.0</td>\n",
              "      <td>2160.0</td>\n",
              "      <td>3775</td>\n",
              "      <td>1</td>\n",
              "    </tr>\n",
              "  </tbody>\n",
              "</table>\n",
              "</div>"
            ],
            "text/plain": [
              "   trip_id  store_id department_name  dept_quantity  trip_shop_time  \\\n",
              "0  3119513         1       Beverages            8.0          2160.0   \n",
              "1  3119513         1    Dairy & Eggs           28.0          2160.0   \n",
              "2  3119513         1            Deli            1.0          2160.0   \n",
              "3  3119513         1   International            1.0          2160.0   \n",
              "4  3119513         1          Pantry            1.0          2160.0   \n",
              "\n",
              "   shopper_id  dept_item_count  \n",
              "0        3775                1  \n",
              "1        3775                1  \n",
              "2        3775                1  \n",
              "3        3775                1  \n",
              "4        3775                1  "
            ]
          },
          "metadata": {
            "tags": []
          },
          "execution_count": 219
        }
      ]
    },
    {
      "metadata": {
        "id": "iWcjiEYLMvsx",
        "colab_type": "text"
      },
      "cell_type": "markdown",
      "source": [
        "AS discussed above, we will add new columns representing each department's unique items and quantity. "
      ]
    },
    {
      "metadata": {
        "id": "f7puqwukBYbU",
        "colab_type": "code",
        "colab": {
          "base_uri": "https://localhost:8080/",
          "height": 304
        },
        "outputId": "e8a96d05-90a9-4ba1-c0d2-c0b7c1cc5a46"
      },
      "cell_type": "code",
      "source": [
        "pivoted_dept_table = pd.pivot_table(dept_count_data, columns=['department_name'], \\\n",
        "              values=['dept_item_count', 'dept_quantity'], fill_value=0,index='trip_id')\n",
        "# pivoted_dept_table.head(5)\n",
        "pivoted_dept_table.columns = [' '.join(col).strip() for col in pivoted_dept_table.columns.values]\n",
        "pivoted_dept_table = pivoted_dept_table.reset_index()\n",
        "pivoted_dept_table.head(5)\n",
        "\n"
      ],
      "execution_count": 220,
      "outputs": [
        {
          "output_type": "execute_result",
          "data": {
            "text/html": [
              "<div>\n",
              "<style scoped>\n",
              "    .dataframe tbody tr th:only-of-type {\n",
              "        vertical-align: middle;\n",
              "    }\n",
              "\n",
              "    .dataframe tbody tr th {\n",
              "        vertical-align: top;\n",
              "    }\n",
              "\n",
              "    .dataframe thead th {\n",
              "        text-align: right;\n",
              "    }\n",
              "</style>\n",
              "<table border=\"1\" class=\"dataframe\">\n",
              "  <thead>\n",
              "    <tr style=\"text-align: right;\">\n",
              "      <th></th>\n",
              "      <th>trip_id</th>\n",
              "      <th>dept_item_count 25% OFF Supplements 8/14-8/16</th>\n",
              "      <th>dept_item_count 4th of July</th>\n",
              "      <th>dept_item_count Academy Awards</th>\n",
              "      <th>dept_item_count Alcohol</th>\n",
              "      <th>dept_item_count All It Takes to Bake!</th>\n",
              "      <th>dept_item_count Aquatics</th>\n",
              "      <th>dept_item_count BBQ Favorites</th>\n",
              "      <th>dept_item_count Babies</th>\n",
              "      <th>dept_item_count Bakery</th>\n",
              "      <th>...</th>\n",
              "      <th>dept_quantity Star Wars</th>\n",
              "      <th>dept_quantity Summer Drinks</th>\n",
              "      <th>dept_quantity Super Bowl Party</th>\n",
              "      <th>dept_quantity TEST SPECIAL AISLE</th>\n",
              "      <th>dept_quantity Thanksgiving</th>\n",
              "      <th>dept_quantity Thanksgiving A to Z</th>\n",
              "      <th>dept_quantity Travel</th>\n",
              "      <th>dept_quantity Valentine's Day Specials</th>\n",
              "      <th>dept_quantity Valentine's- Made with Love!</th>\n",
              "      <th>dept_quantity Vitamins &amp; Supplements</th>\n",
              "    </tr>\n",
              "  </thead>\n",
              "  <tbody>\n",
              "    <tr>\n",
              "      <th>0</th>\n",
              "      <td>3119513</td>\n",
              "      <td>0</td>\n",
              "      <td>0</td>\n",
              "      <td>0</td>\n",
              "      <td>0</td>\n",
              "      <td>0</td>\n",
              "      <td>0</td>\n",
              "      <td>0</td>\n",
              "      <td>0</td>\n",
              "      <td>0</td>\n",
              "      <td>...</td>\n",
              "      <td>0</td>\n",
              "      <td>0</td>\n",
              "      <td>0</td>\n",
              "      <td>0.0</td>\n",
              "      <td>0.0</td>\n",
              "      <td>0</td>\n",
              "      <td>0</td>\n",
              "      <td>0.0</td>\n",
              "      <td>0.0</td>\n",
              "      <td>0.0</td>\n",
              "    </tr>\n",
              "    <tr>\n",
              "      <th>1</th>\n",
              "      <td>3119516</td>\n",
              "      <td>0</td>\n",
              "      <td>0</td>\n",
              "      <td>0</td>\n",
              "      <td>0</td>\n",
              "      <td>0</td>\n",
              "      <td>0</td>\n",
              "      <td>0</td>\n",
              "      <td>0</td>\n",
              "      <td>0</td>\n",
              "      <td>...</td>\n",
              "      <td>0</td>\n",
              "      <td>0</td>\n",
              "      <td>0</td>\n",
              "      <td>0.0</td>\n",
              "      <td>0.0</td>\n",
              "      <td>0</td>\n",
              "      <td>0</td>\n",
              "      <td>0.0</td>\n",
              "      <td>0.0</td>\n",
              "      <td>0.0</td>\n",
              "    </tr>\n",
              "    <tr>\n",
              "      <th>2</th>\n",
              "      <td>3119518</td>\n",
              "      <td>0</td>\n",
              "      <td>0</td>\n",
              "      <td>0</td>\n",
              "      <td>0</td>\n",
              "      <td>0</td>\n",
              "      <td>0</td>\n",
              "      <td>0</td>\n",
              "      <td>0</td>\n",
              "      <td>1</td>\n",
              "      <td>...</td>\n",
              "      <td>0</td>\n",
              "      <td>0</td>\n",
              "      <td>0</td>\n",
              "      <td>0.0</td>\n",
              "      <td>0.0</td>\n",
              "      <td>0</td>\n",
              "      <td>0</td>\n",
              "      <td>0.0</td>\n",
              "      <td>0.0</td>\n",
              "      <td>0.0</td>\n",
              "    </tr>\n",
              "    <tr>\n",
              "      <th>3</th>\n",
              "      <td>3119519</td>\n",
              "      <td>0</td>\n",
              "      <td>0</td>\n",
              "      <td>0</td>\n",
              "      <td>0</td>\n",
              "      <td>0</td>\n",
              "      <td>0</td>\n",
              "      <td>0</td>\n",
              "      <td>0</td>\n",
              "      <td>1</td>\n",
              "      <td>...</td>\n",
              "      <td>0</td>\n",
              "      <td>0</td>\n",
              "      <td>0</td>\n",
              "      <td>0.0</td>\n",
              "      <td>0.0</td>\n",
              "      <td>0</td>\n",
              "      <td>0</td>\n",
              "      <td>0.0</td>\n",
              "      <td>0.0</td>\n",
              "      <td>0.0</td>\n",
              "    </tr>\n",
              "    <tr>\n",
              "      <th>4</th>\n",
              "      <td>3119520</td>\n",
              "      <td>0</td>\n",
              "      <td>0</td>\n",
              "      <td>0</td>\n",
              "      <td>1</td>\n",
              "      <td>0</td>\n",
              "      <td>0</td>\n",
              "      <td>0</td>\n",
              "      <td>1</td>\n",
              "      <td>1</td>\n",
              "      <td>...</td>\n",
              "      <td>0</td>\n",
              "      <td>0</td>\n",
              "      <td>0</td>\n",
              "      <td>0.0</td>\n",
              "      <td>0.0</td>\n",
              "      <td>0</td>\n",
              "      <td>0</td>\n",
              "      <td>0.0</td>\n",
              "      <td>0.0</td>\n",
              "      <td>0.0</td>\n",
              "    </tr>\n",
              "  </tbody>\n",
              "</table>\n",
              "<p>5 rows × 167 columns</p>\n",
              "</div>"
            ],
            "text/plain": [
              "   trip_id  dept_item_count 25% OFF Supplements 8/14-8/16  \\\n",
              "0  3119513                                              0   \n",
              "1  3119516                                              0   \n",
              "2  3119518                                              0   \n",
              "3  3119519                                              0   \n",
              "4  3119520                                              0   \n",
              "\n",
              "   dept_item_count 4th of July  dept_item_count Academy Awards  \\\n",
              "0                            0                               0   \n",
              "1                            0                               0   \n",
              "2                            0                               0   \n",
              "3                            0                               0   \n",
              "4                            0                               0   \n",
              "\n",
              "   dept_item_count Alcohol  dept_item_count All It Takes to Bake!  \\\n",
              "0                        0                                      0   \n",
              "1                        0                                      0   \n",
              "2                        0                                      0   \n",
              "3                        0                                      0   \n",
              "4                        1                                      0   \n",
              "\n",
              "   dept_item_count Aquatics  dept_item_count BBQ Favorites  \\\n",
              "0                         0                              0   \n",
              "1                         0                              0   \n",
              "2                         0                              0   \n",
              "3                         0                              0   \n",
              "4                         0                              0   \n",
              "\n",
              "   dept_item_count Babies  dept_item_count Bakery  \\\n",
              "0                       0                       0   \n",
              "1                       0                       0   \n",
              "2                       0                       1   \n",
              "3                       0                       1   \n",
              "4                       1                       1   \n",
              "\n",
              "                   ...                   dept_quantity Star Wars  \\\n",
              "0                  ...                                         0   \n",
              "1                  ...                                         0   \n",
              "2                  ...                                         0   \n",
              "3                  ...                                         0   \n",
              "4                  ...                                         0   \n",
              "\n",
              "   dept_quantity Summer Drinks  dept_quantity Super Bowl Party  \\\n",
              "0                            0                               0   \n",
              "1                            0                               0   \n",
              "2                            0                               0   \n",
              "3                            0                               0   \n",
              "4                            0                               0   \n",
              "\n",
              "   dept_quantity TEST SPECIAL AISLE  dept_quantity Thanksgiving  \\\n",
              "0                               0.0                         0.0   \n",
              "1                               0.0                         0.0   \n",
              "2                               0.0                         0.0   \n",
              "3                               0.0                         0.0   \n",
              "4                               0.0                         0.0   \n",
              "\n",
              "   dept_quantity Thanksgiving A to Z  dept_quantity Travel  \\\n",
              "0                                  0                     0   \n",
              "1                                  0                     0   \n",
              "2                                  0                     0   \n",
              "3                                  0                     0   \n",
              "4                                  0                     0   \n",
              "\n",
              "   dept_quantity Valentine's Day Specials  \\\n",
              "0                                     0.0   \n",
              "1                                     0.0   \n",
              "2                                     0.0   \n",
              "3                                     0.0   \n",
              "4                                     0.0   \n",
              "\n",
              "   dept_quantity Valentine's- Made with Love!  \\\n",
              "0                                         0.0   \n",
              "1                                         0.0   \n",
              "2                                         0.0   \n",
              "3                                         0.0   \n",
              "4                                         0.0   \n",
              "\n",
              "   dept_quantity Vitamins & Supplements  \n",
              "0                                   0.0  \n",
              "1                                   0.0  \n",
              "2                                   0.0  \n",
              "3                                   0.0  \n",
              "4                                   0.0  \n",
              "\n",
              "[5 rows x 167 columns]"
            ]
          },
          "metadata": {
            "tags": []
          },
          "execution_count": 220
        }
      ]
    },
    {
      "metadata": {
        "id": "9DvrLXLUTPpV",
        "colab_type": "text"
      },
      "cell_type": "markdown",
      "source": [
        "Now that we have department count of items and quantity as well as a dataframe with total count of items and quantity, concatenate these dataframes"
      ]
    },
    {
      "metadata": {
        "id": "ip1otKIUN0WP",
        "colab_type": "code",
        "colab": {
          "base_uri": "https://localhost:8080/",
          "height": 304
        },
        "outputId": "6cdafd0d-8f18-4cb5-fd8e-de8f35514923"
      },
      "cell_type": "code",
      "source": [
        "combined_count_data = combined_count_data.rename(columns={'trip_id':'trip_id_1'})\n",
        "combined_train_data = pd.concat([combined_count_data,pivoted_dept_table],axis=1)\n",
        "combined_train_data = combined_train_data.drop(['trip_id_1'],axis=1).drop_duplicates()\n",
        "combined_train_data.head(5)"
      ],
      "execution_count": 221,
      "outputs": [
        {
          "output_type": "execute_result",
          "data": {
            "text/html": [
              "<div>\n",
              "<style scoped>\n",
              "    .dataframe tbody tr th:only-of-type {\n",
              "        vertical-align: middle;\n",
              "    }\n",
              "\n",
              "    .dataframe tbody tr th {\n",
              "        vertical-align: top;\n",
              "    }\n",
              "\n",
              "    .dataframe thead th {\n",
              "        text-align: right;\n",
              "    }\n",
              "</style>\n",
              "<table border=\"1\" class=\"dataframe\">\n",
              "  <thead>\n",
              "    <tr style=\"text-align: right;\">\n",
              "      <th></th>\n",
              "      <th>store_id</th>\n",
              "      <th>shopper_id</th>\n",
              "      <th>shopping_started_at</th>\n",
              "      <th>total_unique_items</th>\n",
              "      <th>trip_shop_time</th>\n",
              "      <th>total_quantity</th>\n",
              "      <th>total_depts_visited</th>\n",
              "      <th>trip_id</th>\n",
              "      <th>dept_item_count 25% OFF Supplements 8/14-8/16</th>\n",
              "      <th>dept_item_count 4th of July</th>\n",
              "      <th>...</th>\n",
              "      <th>dept_quantity Star Wars</th>\n",
              "      <th>dept_quantity Summer Drinks</th>\n",
              "      <th>dept_quantity Super Bowl Party</th>\n",
              "      <th>dept_quantity TEST SPECIAL AISLE</th>\n",
              "      <th>dept_quantity Thanksgiving</th>\n",
              "      <th>dept_quantity Thanksgiving A to Z</th>\n",
              "      <th>dept_quantity Travel</th>\n",
              "      <th>dept_quantity Valentine's Day Specials</th>\n",
              "      <th>dept_quantity Valentine's- Made with Love!</th>\n",
              "      <th>dept_quantity Vitamins &amp; Supplements</th>\n",
              "    </tr>\n",
              "  </thead>\n",
              "  <tbody>\n",
              "    <tr>\n",
              "      <th>0</th>\n",
              "      <td>1</td>\n",
              "      <td>3775</td>\n",
              "      <td>2015-09-01 07:04:33</td>\n",
              "      <td>5</td>\n",
              "      <td>2160.0</td>\n",
              "      <td>22.875000</td>\n",
              "      <td>8</td>\n",
              "      <td>3119513</td>\n",
              "      <td>0</td>\n",
              "      <td>0</td>\n",
              "      <td>...</td>\n",
              "      <td>0</td>\n",
              "      <td>0</td>\n",
              "      <td>0</td>\n",
              "      <td>0.0</td>\n",
              "      <td>0.0</td>\n",
              "      <td>0</td>\n",
              "      <td>0</td>\n",
              "      <td>0.0</td>\n",
              "      <td>0.0</td>\n",
              "      <td>0.0</td>\n",
              "    </tr>\n",
              "    <tr>\n",
              "      <th>1</th>\n",
              "      <td>1</td>\n",
              "      <td>4362</td>\n",
              "      <td>2015-09-01 07:23:21</td>\n",
              "      <td>1</td>\n",
              "      <td>1080.0</td>\n",
              "      <td>1.800000</td>\n",
              "      <td>5</td>\n",
              "      <td>3119516</td>\n",
              "      <td>0</td>\n",
              "      <td>0</td>\n",
              "      <td>...</td>\n",
              "      <td>0</td>\n",
              "      <td>0</td>\n",
              "      <td>0</td>\n",
              "      <td>0.0</td>\n",
              "      <td>0.0</td>\n",
              "      <td>0</td>\n",
              "      <td>0</td>\n",
              "      <td>0.0</td>\n",
              "      <td>0.0</td>\n",
              "      <td>0.0</td>\n",
              "    </tr>\n",
              "    <tr>\n",
              "      <th>2</th>\n",
              "      <td>1</td>\n",
              "      <td>10720</td>\n",
              "      <td>2015-09-01 07:37:53</td>\n",
              "      <td>4</td>\n",
              "      <td>2460.0</td>\n",
              "      <td>3.500000</td>\n",
              "      <td>6</td>\n",
              "      <td>3119518</td>\n",
              "      <td>0</td>\n",
              "      <td>0</td>\n",
              "      <td>...</td>\n",
              "      <td>0</td>\n",
              "      <td>0</td>\n",
              "      <td>0</td>\n",
              "      <td>0.0</td>\n",
              "      <td>0.0</td>\n",
              "      <td>0</td>\n",
              "      <td>0</td>\n",
              "      <td>0.0</td>\n",
              "      <td>0.0</td>\n",
              "      <td>0.0</td>\n",
              "    </tr>\n",
              "    <tr>\n",
              "      <th>3</th>\n",
              "      <td>6</td>\n",
              "      <td>48539</td>\n",
              "      <td>2015-09-01 07:03:56</td>\n",
              "      <td>5</td>\n",
              "      <td>1620.0</td>\n",
              "      <td>3.545455</td>\n",
              "      <td>11</td>\n",
              "      <td>3119519</td>\n",
              "      <td>0</td>\n",
              "      <td>0</td>\n",
              "      <td>...</td>\n",
              "      <td>0</td>\n",
              "      <td>0</td>\n",
              "      <td>0</td>\n",
              "      <td>0.0</td>\n",
              "      <td>0.0</td>\n",
              "      <td>0</td>\n",
              "      <td>0</td>\n",
              "      <td>0.0</td>\n",
              "      <td>0.0</td>\n",
              "      <td>0.0</td>\n",
              "    </tr>\n",
              "    <tr>\n",
              "      <th>4</th>\n",
              "      <td>115</td>\n",
              "      <td>43442</td>\n",
              "      <td>2015-09-01 07:39:11</td>\n",
              "      <td>5</td>\n",
              "      <td>3600.0</td>\n",
              "      <td>2.571429</td>\n",
              "      <td>14</td>\n",
              "      <td>3119520</td>\n",
              "      <td>0</td>\n",
              "      <td>0</td>\n",
              "      <td>...</td>\n",
              "      <td>0</td>\n",
              "      <td>0</td>\n",
              "      <td>0</td>\n",
              "      <td>0.0</td>\n",
              "      <td>0.0</td>\n",
              "      <td>0</td>\n",
              "      <td>0</td>\n",
              "      <td>0.0</td>\n",
              "      <td>0.0</td>\n",
              "      <td>0.0</td>\n",
              "    </tr>\n",
              "  </tbody>\n",
              "</table>\n",
              "<p>5 rows × 174 columns</p>\n",
              "</div>"
            ],
            "text/plain": [
              "   store_id  shopper_id shopping_started_at  total_unique_items  \\\n",
              "0         1        3775 2015-09-01 07:04:33                   5   \n",
              "1         1        4362 2015-09-01 07:23:21                   1   \n",
              "2         1       10720 2015-09-01 07:37:53                   4   \n",
              "3         6       48539 2015-09-01 07:03:56                   5   \n",
              "4       115       43442 2015-09-01 07:39:11                   5   \n",
              "\n",
              "   trip_shop_time  total_quantity  total_depts_visited  trip_id  \\\n",
              "0          2160.0       22.875000                    8  3119513   \n",
              "1          1080.0        1.800000                    5  3119516   \n",
              "2          2460.0        3.500000                    6  3119518   \n",
              "3          1620.0        3.545455                   11  3119519   \n",
              "4          3600.0        2.571429                   14  3119520   \n",
              "\n",
              "   dept_item_count 25% OFF Supplements 8/14-8/16  dept_item_count 4th of July  \\\n",
              "0                                              0                            0   \n",
              "1                                              0                            0   \n",
              "2                                              0                            0   \n",
              "3                                              0                            0   \n",
              "4                                              0                            0   \n",
              "\n",
              "                   ...                   dept_quantity Star Wars  \\\n",
              "0                  ...                                         0   \n",
              "1                  ...                                         0   \n",
              "2                  ...                                         0   \n",
              "3                  ...                                         0   \n",
              "4                  ...                                         0   \n",
              "\n",
              "   dept_quantity Summer Drinks  dept_quantity Super Bowl Party  \\\n",
              "0                            0                               0   \n",
              "1                            0                               0   \n",
              "2                            0                               0   \n",
              "3                            0                               0   \n",
              "4                            0                               0   \n",
              "\n",
              "   dept_quantity TEST SPECIAL AISLE  dept_quantity Thanksgiving  \\\n",
              "0                               0.0                         0.0   \n",
              "1                               0.0                         0.0   \n",
              "2                               0.0                         0.0   \n",
              "3                               0.0                         0.0   \n",
              "4                               0.0                         0.0   \n",
              "\n",
              "   dept_quantity Thanksgiving A to Z  dept_quantity Travel  \\\n",
              "0                                  0                     0   \n",
              "1                                  0                     0   \n",
              "2                                  0                     0   \n",
              "3                                  0                     0   \n",
              "4                                  0                     0   \n",
              "\n",
              "   dept_quantity Valentine's Day Specials  \\\n",
              "0                                     0.0   \n",
              "1                                     0.0   \n",
              "2                                     0.0   \n",
              "3                                     0.0   \n",
              "4                                     0.0   \n",
              "\n",
              "   dept_quantity Valentine's- Made with Love!  \\\n",
              "0                                         0.0   \n",
              "1                                         0.0   \n",
              "2                                         0.0   \n",
              "3                                         0.0   \n",
              "4                                         0.0   \n",
              "\n",
              "   dept_quantity Vitamins & Supplements  \n",
              "0                                   0.0  \n",
              "1                                   0.0  \n",
              "2                                   0.0  \n",
              "3                                   0.0  \n",
              "4                                   0.0  \n",
              "\n",
              "[5 rows x 174 columns]"
            ]
          },
          "metadata": {
            "tags": []
          },
          "execution_count": 221
        }
      ]
    },
    {
      "metadata": {
        "id": "EXmrAPM7m3ss",
        "colab_type": "code",
        "colab": {
          "base_uri": "https://localhost:8080/",
          "height": 490
        },
        "outputId": "9d1d0557-0fab-4815-fddd-bb01317c28d5"
      },
      "cell_type": "code",
      "source": [
        "# plotting top 12 highly correlated predictors with the response\n",
        "correlation = combined_train_data.corr(method='pearson')\n",
        "columns = correlation.nlargest(12, 'trip_shop_time').index\n",
        "\n",
        "correlation_map = np.corrcoef(combined_train_data[columns].values.T)\n",
        "sns.set(font_scale=1.0)\n",
        "heatmap = sns.heatmap(correlation_map, cbar=True, annot=True, square=True, \\\n",
        "                      fmt='.2f', yticklabels=columns.values, xticklabels=columns.values)\n",
        "\n",
        "plt.show()"
      ],
      "execution_count": 222,
      "outputs": [
        {
          "output_type": "display_data",
          "data": {
            "image/png": "[encoded data removed]",
            "text/plain": [
              "<matplotlib.figure.Figure at 0x7fa766b7f400>"
            ]
          },
          "metadata": {
            "tags": []
          }
        }
      ]
    },
    {
      "metadata": {
        "id": "PSfP22TCav7B",
        "colab_type": "text"
      },
      "cell_type": "markdown",
      "source": [
        "Next, we can better utilize the 'shopping_started_at' time stamp by breaking it down to hour, day, week but for the first iteration it will be ignored"
      ]
    },
    {
      "metadata": {
        "id": "16-JDAx_Tcix",
        "colab_type": "code",
        "colab": {
          "base_uri": "https://localhost:8080/",
          "height": 304
        },
        "outputId": "a7406d40-05a1-4182-fe6d-071e6f8e983f"
      },
      "cell_type": "code",
      "source": [
        "# for now time the shopping started at is dropped but in future it can be used to get\n",
        "combined_train_data_dropped_time = combined_train_data.drop(['shopping_started_at','trip_id'],axis=1)\n",
        "combined_train_data_dropped_time = combined_train_data_dropped_time.drop_duplicates()\n",
        "combined_train_data_dropped_time.head(5)"
      ],
      "execution_count": 223,
      "outputs": [
        {
          "output_type": "execute_result",
          "data": {
            "text/html": [
              "<div>\n",
              "<style scoped>\n",
              "    .dataframe tbody tr th:only-of-type {\n",
              "        vertical-align: middle;\n",
              "    }\n",
              "\n",
              "    .dataframe tbody tr th {\n",
              "        vertical-align: top;\n",
              "    }\n",
              "\n",
              "    .dataframe thead th {\n",
              "        text-align: right;\n",
              "    }\n",
              "</style>\n",
              "<table border=\"1\" class=\"dataframe\">\n",
              "  <thead>\n",
              "    <tr style=\"text-align: right;\">\n",
              "      <th></th>\n",
              "      <th>store_id</th>\n",
              "      <th>shopper_id</th>\n",
              "      <th>total_unique_items</th>\n",
              "      <th>trip_shop_time</th>\n",
              "      <th>total_quantity</th>\n",
              "      <th>total_depts_visited</th>\n",
              "      <th>dept_item_count 25% OFF Supplements 8/14-8/16</th>\n",
              "      <th>dept_item_count 4th of July</th>\n",
              "      <th>dept_item_count Academy Awards</th>\n",
              "      <th>dept_item_count Alcohol</th>\n",
              "      <th>...</th>\n",
              "      <th>dept_quantity Star Wars</th>\n",
              "      <th>dept_quantity Summer Drinks</th>\n",
              "      <th>dept_quantity Super Bowl Party</th>\n",
              "      <th>dept_quantity TEST SPECIAL AISLE</th>\n",
              "      <th>dept_quantity Thanksgiving</th>\n",
              "      <th>dept_quantity Thanksgiving A to Z</th>\n",
              "      <th>dept_quantity Travel</th>\n",
              "      <th>dept_quantity Valentine's Day Specials</th>\n",
              "      <th>dept_quantity Valentine's- Made with Love!</th>\n",
              "      <th>dept_quantity Vitamins &amp; Supplements</th>\n",
              "    </tr>\n",
              "  </thead>\n",
              "  <tbody>\n",
              "    <tr>\n",
              "      <th>0</th>\n",
              "      <td>1</td>\n",
              "      <td>3775</td>\n",
              "      <td>5</td>\n",
              "      <td>2160.0</td>\n",
              "      <td>22.875000</td>\n",
              "      <td>8</td>\n",
              "      <td>0</td>\n",
              "      <td>0</td>\n",
              "      <td>0</td>\n",
              "      <td>0</td>\n",
              "      <td>...</td>\n",
              "      <td>0</td>\n",
              "      <td>0</td>\n",
              "      <td>0</td>\n",
              "      <td>0.0</td>\n",
              "      <td>0.0</td>\n",
              "      <td>0</td>\n",
              "      <td>0</td>\n",
              "      <td>0.0</td>\n",
              "      <td>0.0</td>\n",
              "      <td>0.0</td>\n",
              "    </tr>\n",
              "    <tr>\n",
              "      <th>1</th>\n",
              "      <td>1</td>\n",
              "      <td>4362</td>\n",
              "      <td>1</td>\n",
              "      <td>1080.0</td>\n",
              "      <td>1.800000</td>\n",
              "      <td>5</td>\n",
              "      <td>0</td>\n",
              "      <td>0</td>\n",
              "      <td>0</td>\n",
              "      <td>0</td>\n",
              "      <td>...</td>\n",
              "      <td>0</td>\n",
              "      <td>0</td>\n",
              "      <td>0</td>\n",
              "      <td>0.0</td>\n",
              "      <td>0.0</td>\n",
              "      <td>0</td>\n",
              "      <td>0</td>\n",
              "      <td>0.0</td>\n",
              "      <td>0.0</td>\n",
              "      <td>0.0</td>\n",
              "    </tr>\n",
              "    <tr>\n",
              "      <th>2</th>\n",
              "      <td>1</td>\n",
              "      <td>10720</td>\n",
              "      <td>4</td>\n",
              "      <td>2460.0</td>\n",
              "      <td>3.500000</td>\n",
              "      <td>6</td>\n",
              "      <td>0</td>\n",
              "      <td>0</td>\n",
              "      <td>0</td>\n",
              "      <td>0</td>\n",
              "      <td>...</td>\n",
              "      <td>0</td>\n",
              "      <td>0</td>\n",
              "      <td>0</td>\n",
              "      <td>0.0</td>\n",
              "      <td>0.0</td>\n",
              "      <td>0</td>\n",
              "      <td>0</td>\n",
              "      <td>0.0</td>\n",
              "      <td>0.0</td>\n",
              "      <td>0.0</td>\n",
              "    </tr>\n",
              "    <tr>\n",
              "      <th>3</th>\n",
              "      <td>6</td>\n",
              "      <td>48539</td>\n",
              "      <td>5</td>\n",
              "      <td>1620.0</td>\n",
              "      <td>3.545455</td>\n",
              "      <td>11</td>\n",
              "      <td>0</td>\n",
              "      <td>0</td>\n",
              "      <td>0</td>\n",
              "      <td>0</td>\n",
              "      <td>...</td>\n",
              "      <td>0</td>\n",
              "      <td>0</td>\n",
              "      <td>0</td>\n",
              "      <td>0.0</td>\n",
              "      <td>0.0</td>\n",
              "      <td>0</td>\n",
              "      <td>0</td>\n",
              "      <td>0.0</td>\n",
              "      <td>0.0</td>\n",
              "      <td>0.0</td>\n",
              "    </tr>\n",
              "    <tr>\n",
              "      <th>4</th>\n",
              "      <td>115</td>\n",
              "      <td>43442</td>\n",
              "      <td>5</td>\n",
              "      <td>3600.0</td>\n",
              "      <td>2.571429</td>\n",
              "      <td>14</td>\n",
              "      <td>0</td>\n",
              "      <td>0</td>\n",
              "      <td>0</td>\n",
              "      <td>1</td>\n",
              "      <td>...</td>\n",
              "      <td>0</td>\n",
              "      <td>0</td>\n",
              "      <td>0</td>\n",
              "      <td>0.0</td>\n",
              "      <td>0.0</td>\n",
              "      <td>0</td>\n",
              "      <td>0</td>\n",
              "      <td>0.0</td>\n",
              "      <td>0.0</td>\n",
              "      <td>0.0</td>\n",
              "    </tr>\n",
              "  </tbody>\n",
              "</table>\n",
              "<p>5 rows × 172 columns</p>\n",
              "</div>"
            ],
            "text/plain": [
              "   store_id  shopper_id  total_unique_items  trip_shop_time  total_quantity  \\\n",
              "0         1        3775                   5          2160.0       22.875000   \n",
              "1         1        4362                   1          1080.0        1.800000   \n",
              "2         1       10720                   4          2460.0        3.500000   \n",
              "3         6       48539                   5          1620.0        3.545455   \n",
              "4       115       43442                   5          3600.0        2.571429   \n",
              "\n",
              "   total_depts_visited  dept_item_count 25% OFF Supplements 8/14-8/16  \\\n",
              "0                    8                                              0   \n",
              "1                    5                                              0   \n",
              "2                    6                                              0   \n",
              "3                   11                                              0   \n",
              "4                   14                                              0   \n",
              "\n",
              "   dept_item_count 4th of July  dept_item_count Academy Awards  \\\n",
              "0                            0                               0   \n",
              "1                            0                               0   \n",
              "2                            0                               0   \n",
              "3                            0                               0   \n",
              "4                            0                               0   \n",
              "\n",
              "   dept_item_count Alcohol                  ...                   \\\n",
              "0                        0                  ...                    \n",
              "1                        0                  ...                    \n",
              "2                        0                  ...                    \n",
              "3                        0                  ...                    \n",
              "4                        1                  ...                    \n",
              "\n",
              "   dept_quantity Star Wars  dept_quantity Summer Drinks  \\\n",
              "0                        0                            0   \n",
              "1                        0                            0   \n",
              "2                        0                            0   \n",
              "3                        0                            0   \n",
              "4                        0                            0   \n",
              "\n",
              "   dept_quantity Super Bowl Party  dept_quantity TEST SPECIAL AISLE  \\\n",
              "0                               0                               0.0   \n",
              "1                               0                               0.0   \n",
              "2                               0                               0.0   \n",
              "3                               0                               0.0   \n",
              "4                               0                               0.0   \n",
              "\n",
              "   dept_quantity Thanksgiving  dept_quantity Thanksgiving A to Z  \\\n",
              "0                         0.0                                  0   \n",
              "1                         0.0                                  0   \n",
              "2                         0.0                                  0   \n",
              "3                         0.0                                  0   \n",
              "4                         0.0                                  0   \n",
              "\n",
              "   dept_quantity Travel  dept_quantity Valentine's Day Specials  \\\n",
              "0                     0                                     0.0   \n",
              "1                     0                                     0.0   \n",
              "2                     0                                     0.0   \n",
              "3                     0                                     0.0   \n",
              "4                     0                                     0.0   \n",
              "\n",
              "   dept_quantity Valentine's- Made with Love!  \\\n",
              "0                                         0.0   \n",
              "1                                         0.0   \n",
              "2                                         0.0   \n",
              "3                                         0.0   \n",
              "4                                         0.0   \n",
              "\n",
              "   dept_quantity Vitamins & Supplements  \n",
              "0                                   0.0  \n",
              "1                                   0.0  \n",
              "2                                   0.0  \n",
              "3                                   0.0  \n",
              "4                                   0.0  \n",
              "\n",
              "[5 rows x 172 columns]"
            ]
          },
          "metadata": {
            "tags": []
          },
          "execution_count": 223
        }
      ]
    },
    {
      "metadata": {
        "id": "rTXQaQXuuIlg",
        "colab_type": "text"
      },
      "cell_type": "markdown",
      "source": [
        "## 3. Model Building\n",
        "\n",
        "Start with simple model like Linear Regression and then move to ensemble models like gradient boosting "
      ]
    },
    {
      "metadata": {
        "id": "AEwjkAz5Vd9L",
        "colab_type": "code",
        "colab": {}
      },
      "cell_type": "code",
      "source": [
        "from sklearn.linear_model import LinearRegression\n",
        "from sklearn.tree import DecisionTreeRegressor\n",
        "from sklearn.ensemble import RandomForestRegressor\n",
        "from sklearn.ensemble import GradientBoostingRegressor\n",
        "from sklearn.model_selection import train_test_split\n",
        "from sklearn.model_selection import cross_val_score\n",
        "from sklearn.model_selection import KFold\n",
        "from sklearn.pipeline import Pipeline\n",
        "from sklearn.preprocessing import StandardScaler\n",
        "from sklearn.metrics import mean_squared_error, r2_score, make_scorer, explained_variance_score\n"
      ],
      "execution_count": 0,
      "outputs": []
    },
    {
      "metadata": {
        "id": "C0fGOphVutUl",
        "colab_type": "text"
      },
      "cell_type": "markdown",
      "source": [
        ""
      ]
    },
    {
      "metadata": {
        "id": "fVVgoXTSurRg",
        "colab_type": "code",
        "colab": {}
      },
      "cell_type": "code",
      "source": [
        "X = combined_train_data_dropped_time.drop(['trip_shop_time'],axis=1)\n",
        "Y = combined_train_data_dropped_time[['trip_shop_time']]\n",
        "X_train, X_val, Y_train, Y_val = train_test_split(X, Y, test_size = 0.20, random_state=100)"
      ],
      "execution_count": 0,
      "outputs": []
    },
    {
      "metadata": {
        "id": "Ue5tAUJzyLCM",
        "colab_type": "code",
        "colab": {
          "base_uri": "https://localhost:8080/",
          "height": 34
        },
        "outputId": "ac0e9525-8879-40cf-cf8f-8630d1a4ee3c"
      },
      "cell_type": "code",
      "source": [
        "lr_ = LinearRegression().fit(X_train,Y_train)\n",
        "print('The r2 score on validation data for least squares regression is: ', lr_.score(X_val,Y_val))\n",
        "\n"
      ],
      "execution_count": 165,
      "outputs": [
        {
          "output_type": "stream",
          "text": [
            "The r2 score on validation data for least squares regression is:  0.3170974387433778\n"
          ],
          "name": "stdout"
        }
      ]
    },
    {
      "metadata": {
        "id": "dBQtiLdhBHOa",
        "colab_type": "code",
        "colab": {}
      },
      "cell_type": "code",
      "source": [
        "# remove outliers\n"
      ],
      "execution_count": 0,
      "outputs": []
    },
    {
      "metadata": {
        "id": "OQWyI2nE7zaY",
        "colab_type": "text"
      },
      "cell_type": "markdown",
      "source": [
        "Try regression trees."
      ]
    },
    {
      "metadata": {
        "id": "9ty-NRfj7cE1",
        "colab_type": "code",
        "colab": {
          "base_uri": "https://localhost:8080/",
          "height": 88
        },
        "outputId": "388f5a27-7530-4880-9c21-79507db26e80"
      },
      "cell_type": "code",
      "source": [
        "decision_tree_ = RandomForestRegressor(n_estimators=1200,min_samples_split=4,max_depth=5).\\\n",
        "                                        fit(X_train,Y_train)\n",
        "print('The r2 score on validation data for random forrest regressor is: ', decision_tree_.score(X_val,Y_val))"
      ],
      "execution_count": 157,
      "outputs": [
        {
          "output_type": "stream",
          "text": [
            "/usr/local/lib/python3.6/dist-packages/ipykernel_launcher.py:1: DataConversionWarning: A column-vector y was passed when a 1d array was expected. Please change the shape of y to (n_samples,), for example using ravel().\n",
            "  \"\"\"Entry point for launching an IPython kernel.\n"
          ],
          "name": "stderr"
        },
        {
          "output_type": "stream",
          "text": [
            "The r2 score on validation data for decision tree is:  0.3576449470006756\n"
          ],
          "name": "stdout"
        }
      ]
    },
    {
      "metadata": {
        "id": "ooXNMOpewrt8",
        "colab_type": "text"
      },
      "cell_type": "markdown",
      "source": [
        "\n",
        "\n",
        "> Indented block\n",
        "\n"
      ]
    },
    {
      "metadata": {
        "id": "1Xe3NrZdwJsl",
        "colab_type": "code",
        "colab": {
          "base_uri": "https://localhost:8080/",
          "height": 88
        },
        "outputId": "a56935d9-1bbf-4c74-9ed1-61e3b96002d0"
      },
      "cell_type": "code",
      "source": [
        "grad_boosting = GradientBoostingRegressor(n_estimators=2500,max_depth=5,\\\n",
        "                              min_samples_split=4,loss='ls').fit(X_train,Y_train)\n",
        "print(\"The r2 score on validation data for gradient boosting is:\", grad_boosting.score(X_val,Y_val))"
      ],
      "execution_count": 163,
      "outputs": [
        {
          "output_type": "stream",
          "text": [
            "/usr/local/lib/python3.6/dist-packages/sklearn/utils/validation.py:578: DataConversionWarning: A column-vector y was passed when a 1d array was expected. Please change the shape of y to (n_samples, ), for example using ravel().\n",
            "  y = column_or_1d(y, warn=True)\n"
          ],
          "name": "stderr"
        },
        {
          "output_type": "stream",
          "text": [
            "The r2 score on validation data for gradient boosting is: 0.43801905530411556\n"
          ],
          "name": "stdout"
        }
      ]
    },
    {
      "metadata": {
        "id": "cjXOG83neTdK",
        "colab_type": "text"
      },
      "cell_type": "markdown",
      "source": [
        "## 4. Predictions on test set\n",
        "\n",
        "Based on the accuracy metric, GradientBoostingRegressor is the best performing model on the validation set. Predictions are made for the test set using this."
      ]
    },
    {
      "metadata": {
        "id": "j4Z2EVp3dNTV",
        "colab_type": "code",
        "colab": {}
      },
      "cell_type": "code",
      "source": [
        "def feature_engineering_test(trip_test_data, order_items):\n",
        "    \n",
        "\n",
        "    # join train_trips with order_items\n",
        "    merged_with_order = trip_test_data.merge(order_items, how='left',on = 'trip_id')\n",
        "    \n",
        "    combined_count_data= merged_with_order.groupby(['trip_id','store_id','department_name',\\\n",
        "              'fulfillment_model','shopping_started_at']).agg({'quantity':np.sum,\\\n",
        "              'shopper_id':np.mean, 'item_id':'nunique'}).reset_index()\n",
        "    # Next we can drop 'fulfilment_model'\n",
        "    combined_count_data = combined_count_data.groupby(['trip_id','store_id','shopper_id','shopping_started_at']).agg({'item_id':'nunique', \\\n",
        "        'quantity':np.mean, 'department_name':'nunique'}).reset_index()\n",
        "    combined_count_data = combined_count_data.rename(columns = {'item_id':'total_unique_items','department_name':'total_depts_visited','quantity':'total_quantity'})\n",
        "    \n",
        "    \n",
        "    dept_count_data = merged_with_order.groupby(['trip_id','store_id','department_name',\\\n",
        "              'fulfillment_model','shopping_started_at']).agg({'quantity':np.sum,\\\n",
        "               'shopper_id':np.mean, 'item_id':'nunique'}).reset_index()\n",
        "\n",
        "    dept_count_data = dept_count_data.groupby(['trip_id','store_id','department_name']).agg \\\n",
        "                            ({'quantity':np.mean,  'shopper_id':np.mean, \\\n",
        "                             'item_id':'nunique'}).reset_index()\n",
        "    dept_count_data = dept_count_data.rename(columns= {'quantity':'dept_quantity', \\\n",
        "                                                       'item_id':'dept_item_count'})\n",
        "                                                       \n",
        "    pivoted_dept_table = pd.pivot_table(dept_count_data, columns=['department_name'], \\\n",
        "              values=['dept_item_count', 'dept_quantity'], fill_value=0,index='trip_id')\n",
        "    pivoted_dept_table.columns = [' '.join(col).strip() for col in pivoted_dept_table.columns.values]\n",
        "    pivoted_dept_table = pivoted_dept_table.reset_index()\n",
        "    \n",
        "    combined_count_data = combined_count_data.rename(columns={'trip_id':'trip_id_1'})\n",
        "    combined_test_data = pd.concat([combined_count_data,pivoted_dept_table],axis=1)\n",
        "    combined_test_data = combined_test_data.drop(['trip_id_1'],axis=1).drop_duplicates()\n",
        "    \n",
        "    combined_test_data_dropped_time = combined_test_data.drop(\\\n",
        "                                              ['shopping_started_at'],axis=1)\n",
        "    combined_test_data_dropped_time = combined_test_data_dropped_time.drop_duplicates()\n",
        "    \n",
        "    X_test = combined_test_data_dropped_time\n",
        "    return X_test"
      ],
      "execution_count": 0,
      "outputs": []
    },
    {
      "metadata": {
        "id": "hXkeXqbKg0-C",
        "colab_type": "code",
        "colab": {}
      },
      "cell_type": "code",
      "source": [
        "X_test = feature_engineering_test(test_trips, order_items)\n",
        "\n",
        "\n",
        "test_cols = [c for c in X_test.columns if c in list(X_train.columns)]  \n",
        "test_cols.append('trip_id')\n",
        "X_test = X_test[test_cols]\n",
        "\n",
        "cols_not_in_test = [c for c in X_train.columns if c not in list(X_test.columns)]\n",
        "for col_ in cols_not_in_test:\n",
        "  X_test[col_] = 0.0\n",
        "\n",
        "X_test = X_test.set_index('trip_id')\n",
        "  \n",
        "Y_test = grad_boosting.predict(X_test)\n",
        "#output = pd.DataFrame(np.vstack((Y_test, X_test.reset_index()['trip_id'])).T)\n",
        "#output[]\n",
        "X_test = X_test.reset_index()\n",
        "X_test.as_matrix(columns=['trip_id'])\n",
        "output = pd.DataFrame(np.vstack((np.asarray(X_test.as_matrix(columns=['trip_id'])).reshape(-1),\\\n",
        "                          Y_test)).T, columns=['trip_id', 'shopping_time']).round(decimals=2)\n",
        "output.trip_id = output.trip_id.astype(int)\n",
        "output.to_csv(\"/content/drive/My Drive/instacart_data/output.csv\",index=False)\n"
      ],
      "execution_count": 0,
      "outputs": []
    },
    {
      "metadata": {
        "id": "oOINgkMu2FEp",
        "colab_type": "code",
        "colab": {}
      },
      "cell_type": "code",
      "source": [
        ""
      ],
      "execution_count": 0,
      "outputs": []
    }
  ]
}